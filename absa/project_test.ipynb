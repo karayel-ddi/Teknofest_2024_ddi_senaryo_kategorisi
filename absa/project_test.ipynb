{
 "cells": [
  {
   "cell_type": "code",
   "execution_count": 5,
   "id": "cbeb3b3b-0a2e-4d91-9e8d-a7bd93ba52af",
   "metadata": {},
   "outputs": [],
   "source": [
    "from transformers import pipeline, AutoModelForTokenClassification, BertTokenizerFast\n",
    "from absa import ABSAModel\n",
    "\n",
    "ner_model_path = \"/home/camp5/karayel/deneme_model/bert_model\"\n",
    "\n",
    "finetuned_model = AutoModelForTokenClassification.from_pretrained(ner_model_path)\n",
    "tokenizer = BertTokenizerFast.from_pretrained(ner_model_path)\n",
    "\n",
    "def response_dondur(sentence, finetuned_model=finetuned_model, tokenizer=tokenizer):\n",
    "\n",
    "    sentence=sentence.lower()\n",
    "    \n",
    "    ner = pipeline(\"ner\", model = finetuned_model, tokenizer = tokenizer, device=0)\n",
    "    result = ner(sentence)\n",
    "\n",
    "    entities = [i for i in result if i['entity']=='B-ORG']\n",
    "\n",
    "    modelABSA = ABSAModel(tokenizer, adapter=False)\n",
    "\n",
    "    absa_model_path = \"/karayel/model_ABSA_adapter/model_lr1e-05_epochs0_batch8.pkl\"\n",
    "\n",
    "    json_1 = {}\n",
    "    json_1['entity_list']=[i['word'] for i in entities]\n",
    "\n",
    "    temp = []\n",
    "    \n",
    "    for count, i in enumerate(entities):\n",
    "    \n",
    "        x, y, z = modelABSA.predict(sentence, i['word'], load_model=absa_model_path)\n",
    "    \n",
    "        if y==1:\n",
    "            temp.append({'entity':i['word'], 'sentiment':'olumlu'})\n",
    "        elif y==0:\n",
    "            temp.append({'entity':i['word'], 'sentiment':'nötr'})\n",
    "        else:\n",
    "            temp.append({'entity':i['word'], 'sentiment':'olumsuz'})\n",
    "\n",
    "        if count==len(entities)-1:\n",
    "            json_1['result'] = temp\n",
    "            \n",
    "    return json_1"
   ]
  },
  {
   "cell_type": "code",
   "execution_count": 6,
   "id": "5780fcab-58a2-40a1-bb76-93916e13e2a0",
   "metadata": {},
   "outputs": [
    {
     "data": {
      "text/plain": [
       "{'entity_list': ['turkcell'],\n",
       " 'result': [{'entity': 'turkcell', 'sentiment': 'olumsuz'}]}"
      ]
     },
     "execution_count": 6,
     "metadata": {},
     "output_type": "execute_result"
    }
   ],
   "source": [
    "response_dondur('Turkcell ne kadar güzel bir firma böyle')"
   ]
  }
 ],
 "metadata": {
  "kernelspec": {
   "display_name": "karayel_llm_1",
   "language": "python",
   "name": "karayel_llm_1"
  },
  "language_info": {
   "codemirror_mode": {
    "name": "ipython",
    "version": 3
   },
   "file_extension": ".py",
   "mimetype": "text/x-python",
   "name": "python",
   "nbconvert_exporter": "python",
   "pygments_lexer": "ipython3",
   "version": "3.8.10"
  }
 },
 "nbformat": 4,
 "nbformat_minor": 5
}
